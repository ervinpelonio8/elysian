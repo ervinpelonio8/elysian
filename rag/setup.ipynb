{
 "cells": [
  {
   "cell_type": "code",
   "execution_count": 5,
   "metadata": {},
   "outputs": [],
   "source": [
    "PINECONE_API_KEY = ''\n",
    "GOOGLE_API_KEY = ''"
   ]
  },
  {
   "cell_type": "code",
   "execution_count": 8,
   "metadata": {},
   "outputs": [
    {
     "name": "stdout",
     "output_type": "stream",
     "text": [
      "Products successfully inserted into Pinecone!\n"
     ]
    }
   ],
   "source": [
    "import sqlite3\n",
    "import json\n",
    "from pinecone import Pinecone, ServerlessSpec\n",
    "import time\n",
    "\n",
    "import google.generativeai as genai\n",
    "import os\n",
    "\n",
    "\n",
    "pc = Pinecone(api_key=PINECONE_API_KEY)\n",
    "\n",
    "# Create or connect to an index\n",
    "index_name = \"my-store-products\"\n",
    "if index_name not in pc.list_indexes():\n",
    "    pc.create_index(\n",
    "        name=index_name,\n",
    "        dimension=768,\n",
    "        metric=\"cosine\",\n",
    "        spec=ServerlessSpec(cloud=\"aws\", region=\"us-east-1\"),\n",
    "    )\n",
    "    while not pc.describe_index(index_name).status[\"ready\"]:\n",
    "        time.sleep(1)\n",
    "\n",
    "index = pc.Index(index_name)\n",
    "\n",
    "genai.configure(api_key=GOOGLE_API_KEY)\n",
    "\n",
    "conn = sqlite3.connect(\"C:/Users/Ervin/Desktop/Projects/vue-basics/laravel-api/database/database.sqlite\")\n",
    "cursor = conn.cursor()\n",
    "\n",
    "cursor.execute(\"SELECT id, name, description, price, image FROM products\")\n",
    "products = cursor.fetchall()\n",
    "\n",
    "for product in products:\n",
    "    product_id, name, description, price, image = product\n",
    "\n",
    "    # Create JSON representation\n",
    "    product_json = json.dumps({\n",
    "        \"id\": product_id,\n",
    "        \"name\": name,\n",
    "        \"description\": description,\n",
    "        \"price\": price,\n",
    "        \"image\": image\n",
    "    }, ensure_ascii=False)\n",
    "\n",
    "    response = genai.embed_content(model=\"models/text-embedding-004\", content=product_json, task_type=\"retrieval_document\")\n",
    "    embedding = response[\"embedding\"]\n",
    "\n",
    "    index.upsert([(str(product_id), embedding, {\"json\": product_json})])\n",
    "\n",
    "print(\"Products successfully inserted into Pinecone!\")\n"
   ]
  },
  {
   "cell_type": "code",
   "execution_count": 9,
   "metadata": {},
   "outputs": [
    {
     "name": "stdout",
     "output_type": "stream",
     "text": [
      "Name: Peacoat, Price: PHP 2800, Description: This peacoat is a timeless outerwear choice that never goes out of style. Crafted from high-quality wool, it’s perfect for chilly weather and adds a polished look to any outfit. (Men), Image: images/products/Peacoat.jpg\n",
      "Name: Quilted Jacket, Price: PHP 2200, Description: This quilted jacket offers lightweight warmth with a stylish design. Perfect for transitional weather, it adds a chic touch to any outfit while keeping you cozy and protected from the cold. (Unisex), Image: images/products/Quilted Jacket.jpg\n",
      "Name: Men Bomber Jacket, Price: PHP 2000, Description: This men’s bomber jacket is the perfect blend of style and function. Designed for those who appreciate both fashion and comfort, it features a sleek design, ribbed cuffs, and a versatile look that can be paired with almost anything. (Men), Image: images/products/Men Bomber Jacket.jpg\n",
      "Name: Stylish Leather Jacket, Price: PHP 3500, Description: Elevate your wardrobe with this premium leather jacket. Designed for those who appreciate quality and style, this jacket is perfect for a night out or casual daily wear. The sleek, edgy design will make you stand out wherever you go. (Men), Image: images/products/Stylish Leather Jacket.jpg\n",
      "Name: Puffer Jacket, Price: PHP 2200, Description: This puffer jacket is built for winter adventures. With its lightweight yet warm design, it’s ideal for outdoor activities and chilly urban walks. Stay warm while keeping your style intact with this winter essential. (Unisex), Image: images/products/Puffer Jacket.jpg\n",
      "Name: Varsity Jacket, Price: PHP 2100, Description: This stylish varsity jacket brings a sporty yet fashionable twist to your wardrobe. With bold color-blocking details and ribbed cuffs, it’s the perfect outerwear to express your unique style. (Unisex), Image: images/products/Varsity Jacket.jpg\n",
      "Name: Bomber Jacket, Price: PHP 2200, Description: A trendy bomber jacket that’s perfect for casual outings and evening hangs. Its lightweight design and stylish ribbed cuffs and collar provide a comfortable yet edgy look. Great for layering over hoodies or T-shirts. (Unisex), Image: images/products/Bomber Jacket.jpg\n",
      "Name: Slim Fit Blazer, Price: PHP 2500, Description: This slim-fit blazer is designed for the modern man who values a sharp, professional look. Whether it’s for work or a night out, this versatile piece will have you looking stylish and confident. (Men), Image: images/products/Slim Fit Blazer.jpg\n",
      "Name: Turtle Neck Sweater, Price: PHP 1400, Description: Keep warm in style with this classic turtle neck sweater. Perfect for layering or wearing alone, it’s a versatile piece that adds a sleek, polished look to any outfit. Great for the colder months. (Men), Image: images/products/Turtle Neck Sweater.jpg\n",
      "Name: Classic Denim Jacket, Price: PHP 1200, Description: This iconic denim jacket is perfect for all occasions. With its rugged charm and timeless appeal, it’s great for layering over a T-shirt or pairing with casual jeans. A wardrobe staple for any season. (Unisex), Image: images/products/denim1.jpg\n",
      "Name: Denim Jacket with Faux Fur Lining, Price: PHP 2500, Description: A classic denim jacket revamped with cozy faux fur lining. Perfect for those chilly days, this jacket brings warmth without sacrificing style. Its versatile design pairs well with both casual and semi-casual outfits. (Women), Image: images/products/Denim Jacket with Faux Fur Lining.jpg\n",
      "Name: Cropped Denim Jacket, Price: PHP 1700, Description: This cropped denim jacket offers a fresh take on a classic piece. With its edgy, modern design, it’s the perfect layering item for any casual outfit. Paired with jeans, skirts, or dresses, it adds instant cool factor. (Women), Image: images/products/Cropped Denim Jacket.jpg\n",
      "Name: Cargo Pants for Men, Price: PHP 1400, Description: For those who need functionality and style, these men’s cargo pants are ideal. With multiple pockets and a relaxed fit, they’re perfect for outdoor activities, casual outings, or a day at work. Durable and easy-going, these pants are built to last. (Men), Image: images/products/Cargo Pants for Men.jpg\n",
      "Name: Chunky Knit Sweater, Price: PHP 1800, Description: Stay cozy in this oversized chunky knit sweater. With its thick texture and relaxed fit, it’s the perfect piece for colder weather, offering warmth and style in one comfortable package. (Unisex), Image: images/products/Chunky Knit Sweater.jpg\n",
      "Name: Red Plaid Shirt, Price: PHP 1100, Description: Get a bold and trendy look with this red plaid shirt. Made from soft, breathable fabric, it’s perfect for cooler days. Wear it on its own or layer it over a T-shirt for a relaxed, effortlessly cool vibe. (Men), Image: images/products/Red Plaid Shirt.jpg\n",
      "Name: Oversized Hoodie, Price: PHP 1500, Description: Stay cozy and stylish with this oversized hoodie. Whether you’re lounging around or hitting the streets, this hoodie offers warmth, comfort, and an effortlessly cool look. A must-have for every casual wardrobe. (Unisex), Image: images/products/Oversized Hoodie.jpg\n",
      "Name: Vintage Sweatshirt, Price: PHP 1250, Description: This vintage-style sweatshirt brings back the charm of retro fashion with a modern twist. Soft, cozy, and perfect for layering, it’s ideal for laid-back days and casual nights out. (Unisex), Image: images/products/Vintage Sweatshirt.jpg\n",
      "Name: Plaid Flannel Shirt, Price: PHP 1300, Description: This warm plaid flannel shirt is a timeless piece that pairs well with almost anything. Made with soft cotton, it’s perfect for layering over a T-shirt or wearing solo for a relaxed, rustic vibe. (Unisex), Image: images/products/Plaid Flannel Shirt.jpg\n",
      "Name: Chino Pants for Men, Price: PHP 1600, Description: Stylish and practical, these men’s chino pants are perfect for office wear or casual outings. Made with soft cotton, they offer a clean, sharp look while providing all-day comfort. Pair them with a dress shirt or a T-shirt for versatility. (Men), Image: images/products/Chino Pants for Men.jpg\n",
      "Name: Double-Breasted Coat, Price: PHP 2500, Description: This stylish double-breasted coat brings sophistication and warmth together. Whether you’re heading to work or out for a date night, this coat is the perfect outerwear for any occasion. (Women), Image: images/products/Double-Breasted Coat.jpg\n"
     ]
    }
   ],
   "source": [
    "import json\n",
    "import google.generativeai as genai\n",
    "from pinecone import Pinecone\n",
    "\n",
    "# Initialize Pinecone\n",
    "pc = Pinecone(api_key=PINECONE_API_KEY)\n",
    "index_name = \"my-store-products\"\n",
    "index = pc.Index(index_name)\n",
    "\n",
    "# Initialize Google Generative AI\n",
    "genai.configure(api_key=GOOGLE_API_KEY)\n",
    "\n",
    "def retrieve_products(query: str, top_k: int = 20):\n",
    "    # Generate embedding for query\n",
    "    response = genai.embed_content(model=\"models/text-embedding-004\", content=query, task_type=\"retrieval_query\")\n",
    "    query_embedding = response[\"embedding\"]\n",
    "\n",
    "    # Search in Pinecone\n",
    "    results = index.query(vector=query_embedding, top_k=top_k, include_metadata=True)\n",
    "\n",
    "    # Extract and return product details\n",
    "    products = [json.loads(match[\"metadata\"][\"json\"]) for match in results[\"matches\"]]\n",
    "    return products\n",
    "\n",
    "# Example usage\n",
    "query = \"Men's stylish casual jacket for cold weather\"\n",
    "retrieved_products = retrieve_products(query)\n",
    "\n",
    "# Print retrieved products\n",
    "for product in retrieved_products:\n",
    "    print(f\"Name: {product['name']}, Price: PHP {product['price']}, Description: {product['description']}, Image: {product['image']}\")\n"
   ]
  },
  {
   "cell_type": "code",
   "execution_count": null,
   "metadata": {},
   "outputs": [],
   "source": []
  }
 ],
 "metadata": {
  "kernelspec": {
   "display_name": "gov_rag",
   "language": "python",
   "name": "python3"
  },
  "language_info": {
   "codemirror_mode": {
    "name": "ipython",
    "version": 3
   },
   "file_extension": ".py",
   "mimetype": "text/x-python",
   "name": "python",
   "nbconvert_exporter": "python",
   "pygments_lexer": "ipython3",
   "version": "3.12.8"
  }
 },
 "nbformat": 4,
 "nbformat_minor": 2
}
